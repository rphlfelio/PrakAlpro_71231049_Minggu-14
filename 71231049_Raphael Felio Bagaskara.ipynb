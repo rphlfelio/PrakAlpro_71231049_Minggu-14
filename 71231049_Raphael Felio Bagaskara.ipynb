{
 "cells": [
  {
   "cell_type": "code",
   "execution_count": 4,
   "id": "5cf893c7",
   "metadata": {},
   "outputs": [
    {
     "name": "stdout",
     "output_type": "stream",
     "text": [
      "masukkan n: 80\n",
      "80 bukan bilangan prima\n"
     ]
    }
   ],
   "source": [
    "#Latihan 13.1\n",
    "n = int(input(\"masukkan n: \"))\n",
    "def bilprima(n, a=None):\n",
    "    if n < 2:\n",
    "        return False\n",
    "    \n",
    "    if a is None:\n",
    "        a = n - 1\n",
    "    \n",
    "    if a == 1:\n",
    "        return True\n",
    "    \n",
    "    if n % a == 0:\n",
    "        return False\n",
    "    \n",
    "    return bilprima(n, a - 1)\n",
    "\n",
    "if bilprima(n):\n",
    "    print(f\"{n} bilangan prima \")\n",
    "else:\n",
    "    print(f\"{n} bukan bilangan prima\")"
   ]
  },
  {
   "cell_type": "code",
   "execution_count": 13,
   "id": "66da7965",
   "metadata": {},
   "outputs": [
    {
     "name": "stdout",
     "output_type": "stream",
     "text": [
      "masukkan kata :anjing galak\n",
      "anjing galak bukan palindrom\n"
     ]
    }
   ],
   "source": [
    "#Latihan 13.2\n",
    "i = input(\"masukkan kata: \")\n",
    "def depanbelakang(i):\n",
    "    if len(i)<= 1:\n",
    "        return True\n",
    "    \n",
    "    elif i[0]==i[-1]:\n",
    "        return depanbelakang(i[1:-1])\n",
    "    \n",
    "    else:\n",
    "        return False\n",
    "    return depanbelakang(i)\n",
    "\n",
    "if depanbelakang(i):\n",
    "    print(f\"{i} adalah palindrom\")\n",
    "else:\n",
    "    print(f\"{i} bukan palindrom\")"
   ]
  },
  {
   "cell_type": "code",
   "execution_count": 6,
   "id": "ac0b424a",
   "metadata": {},
   "outputs": [
    {
     "name": "stdout",
     "output_type": "stream",
     "text": [
      "masukkan batas deretan: 11\n",
      "36\n"
     ]
    }
   ],
   "source": [
    "#Latihan 13.3\n",
    "angka = int(input(\"masukkan batas deretan: \"))\n",
    "def ganjil(angka, awal = None):\n",
    "    awal = 1\n",
    "    def hitung(angka, awal):\n",
    "        if awal > angka:\n",
    "            return 0\n",
    "        if angka >= awal:\n",
    "            return awal + hitung(angka, awal+2)\n",
    "    return hitung(angka, awal)\n",
    "\n",
    "print(ganjil(angka))"
   ]
  },
  {
   "cell_type": "code",
   "execution_count": 3,
   "id": "cbad48ef",
   "metadata": {},
   "outputs": [
    {
     "name": "stdout",
     "output_type": "stream",
     "text": [
      "masukkan bilangan: 234\n",
      "9\n"
     ]
    }
   ],
   "source": [
    "#Latihan 13.4\n",
    "bil = int(input(\"masukkan bilangan: \"))\n",
    "\n",
    "def hasil_deret(bil):\n",
    "    if not bil:\n",
    "        return 0\n",
    "    else:\n",
    "        return bil % 10 + hasil_deret(bil//10)\n",
    "\n",
    "print(hasil_deret(bil))"
   ]
  },
  {
   "cell_type": "code",
   "execution_count": 10,
   "id": "85aec852",
   "metadata": {},
   "outputs": [
    {
     "name": "stdout",
     "output_type": "stream",
     "text": [
      "masukkan nilai n: 9\n",
      "masukkan nilai r: 3\n",
      "84\n"
     ]
    }
   ],
   "source": [
    "#Latihan 13.5\n",
    "n = int(input(\"masukkan nilai n: \"))\n",
    "r = int(input(\"masukkan nilai r: \"))\n",
    "\n",
    "def kombinasi(n, r):\n",
    "    if r == 0 or r == n:\n",
    "        return 1\n",
    "    else:\n",
    "        return kombinasi(n-1, r-1) + kombinasi(n-1, r)\n",
    "    \n",
    "print(kombinasi(n, r))"
   ]
  },
  {
   "cell_type": "code",
   "execution_count": null,
   "id": "619cf1fd",
   "metadata": {},
   "outputs": [],
   "source": []
  }
 ],
 "metadata": {
  "kernelspec": {
   "display_name": "Python 3 (ipykernel)",
   "language": "python",
   "name": "python3"
  },
  "language_info": {
   "codemirror_mode": {
    "name": "ipython",
    "version": 3
   },
   "file_extension": ".py",
   "mimetype": "text/x-python",
   "name": "python",
   "nbconvert_exporter": "python",
   "pygments_lexer": "ipython3",
   "version": "3.11.5"
  }
 },
 "nbformat": 4,
 "nbformat_minor": 5
}
